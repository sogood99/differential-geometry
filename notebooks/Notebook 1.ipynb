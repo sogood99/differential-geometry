{
 "cells": [
  {
   "cell_type": "markdown",
   "id": "381f89d8",
   "metadata": {},
   "source": [
    "# Chapter 1\n",
    "## Curves in the Plane\n",
    "\n",
    "### General Definitions \n",
    "Euclidean $n$-space is $\\mathbb R^n$. The plane is defined as $\\mathbb R^2$. $\\cdot$ is the standard dot product on Euclidean space such that for $\\bm p, \\bm q \\in \\mathbb R^n$:\n",
    "$$\n",
    "    \\bm p \\cdot \\bm q = \\sum_{j=1}^n p_j q_j\n",
    "$$\n",
    "and norm, distance is defined as:\n",
    "$$\n",
    "    || \\bm p || = \\sqrt{\\bm p \\cdot \\bm q},\\ \\op{distance}(\\bm p, \\bm q) = ||\\bm p -\\bm q||\n",
    "$$\n",
    "respectively.\n",
    "\n",
    "Let $J:\\mathbb R^2 \\to \\mathbb R^2$ such that:\n",
    "$$\n",
    "    J(p_1, p_2) = (-p_2, p_1)\n",
    "$$\n",
    "\n"
   ]
  },
  {
   "cell_type": "code",
   "execution_count": null,
   "id": "b72a49af",
   "metadata": {},
   "outputs": [],
   "source": []
  }
 ],
 "metadata": {
  "kernelspec": {
   "display_name": "SageMath 9.5",
   "language": "sage",
   "name": "sagemath"
  },
  "language_info": {
   "codemirror_mode": {
    "name": "ipython",
    "version": 3
   },
   "file_extension": ".py",
   "mimetype": "text/x-python",
   "name": "python",
   "nbconvert_exporter": "python",
   "pygments_lexer": "ipython3",
   "version": "3.10.12"
  }
 },
 "nbformat": 4,
 "nbformat_minor": 5
}
